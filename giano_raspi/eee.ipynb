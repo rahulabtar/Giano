{
 "cells": [
  {
   "cell_type": "code",
   "execution_count": null,
   "id": "90c78898",
   "metadata": {},
   "outputs": [],
   "source": [
    "list_dict = [{'id':3, 'rvec':[0.333,4.1]}, {'id':4,'rvec':[0.123,33.3]}]\n",
    "for pose in list_dict:\n",
    "  if pose['id'] is 3:\n",
    "    print('yes')"
   ]
  }
 ],
 "metadata": {
  "kernelspec": {
   "display_name": ".venv",
   "language": "python",
   "name": "python3"
  },
  "language_info": {
   "name": "python",
   "version": "3.12.2"
  }
 },
 "nbformat": 4,
 "nbformat_minor": 5
}
